{
 "cells": [
  {
   "cell_type": "markdown",
   "id": "f1ccb20f-a4df-4d8c-b6fc-54abafd31267",
   "metadata": {},
   "source": [
    "## Assignment - 9"
   ]
  },
  {
   "cell_type": "markdown",
   "id": "39b9f50a-b703-4d8c-94b0-ae90dcf24f9d",
   "metadata": {},
   "source": [
    "Q1)Given a 1-indexed array of integers numbers that are already sorted in non-decreasing order, find two numbers such that they add up to a specific target number. Let these two numbers be numbers[index1] and numbers[index2] where 1 <= index1 < index2 < numbers.length.\n",
    "Return the indices of the two numbers, index1, and index2, added by one as an integer array [index1, index2] of length 2.\n",
    "The tests are generated such that there is exactly one solution. You may not use the same element twice.\n",
    "Your solution must use only constant extra space.\n",
    "Input: numbers = [2,7,11,15], target = 9\n",
    "Output: [1,2]\n",
    "Explanation: The sum of 2 and 7 is 9. Therefore, index1 = 1, index2 = 2. We return [1, 2].\n"
   ]
  },
  {
   "cell_type": "code",
   "execution_count": 1,
   "id": "33d81a50-6aff-408a-9a16-a7d66f9110a1",
   "metadata": {},
   "outputs": [
    {
     "name": "stdout",
     "output_type": "stream",
     "text": [
      "[1, 2]\n"
     ]
    }
   ],
   "source": [
    "def two_sum(numbers, target):\n",
    "    left = 0\n",
    "    right = len(numbers) - 1\n",
    "\n",
    "    while left < right:\n",
    "        current_sum = numbers[left] + numbers[right]\n",
    "\n",
    "        if current_sum == target:\n",
    "            # The indices are 1-indexed, so add 1 to each index\n",
    "            return [left + 1, right + 1]\n",
    "        elif current_sum < target:\n",
    "            left += 1\n",
    "        else:\n",
    "            right -= 1\n",
    "\n",
    "    # It is guaranteed that there is exactly one solution, so the function should always return before reaching this point.\n",
    "    return [-1, -1]\n",
    "\n",
    "# Test case\n",
    "numbers = [2, 7, 11, 15]\n",
    "target = 9\n",
    "output = two_sum(numbers, target)\n",
    "print(output)  # Output: [1, 2]\n"
   ]
  },
  {
   "cell_type": "code",
   "execution_count": null,
   "id": "e717126e-b3e3-4b48-b63f-3ecec77acf13",
   "metadata": {},
   "outputs": [],
   "source": []
  },
  {
   "cell_type": "markdown",
   "id": "f365238f-f613-49ac-8dc8-a7a2656e3649",
   "metadata": {},
   "source": [
    "Q2)Given an array of integer nums sorted in non-decreasing order, find the starting and ending position of a given target value.\n",
    "If the target is not found in the array, return [-1, -1].\n",
    "You must write an algorithm with O(log n) runtime complexity\n",
    "Input: nums = [5,7,7,8,8,10], target = 8\n",
    "Output: [3,4]\n"
   ]
  },
  {
   "cell_type": "code",
   "execution_count": 2,
   "id": "4d4e87fe-243b-412f-a7a4-6fbcf10327c7",
   "metadata": {},
   "outputs": [
    {
     "name": "stdout",
     "output_type": "stream",
     "text": [
      "[3, 4]\n"
     ]
    }
   ],
   "source": [
    "def find_target_range(nums, target):\n",
    "    def binary_search_left(nums, target):\n",
    "        left, right = 0, len(nums) - 1\n",
    "        while left < right:\n",
    "            mid = (left + right) // 2\n",
    "            if nums[mid] == target:\n",
    "                right = mid\n",
    "            elif nums[mid] < target:\n",
    "                left = mid + 1\n",
    "            else:\n",
    "                right = mid - 1\n",
    "        return left if nums[left] == target else -1\n",
    "\n",
    "    def binary_search_right(nums, target):\n",
    "        left, right = 0, len(nums) - 1\n",
    "        while left < right:\n",
    "            mid = (left + right + 1) // 2\n",
    "            if nums[mid] == target:\n",
    "                left = mid\n",
    "            elif nums[mid] <= target:\n",
    "                left = mid\n",
    "            else:\n",
    "                right = mid - 1\n",
    "        return left if nums[left] == target else -1\n",
    "\n",
    "    start = binary_search_left(nums, target)\n",
    "    end = binary_search_right(nums, target)\n",
    "\n",
    "    return [start, end]\n",
    "\n",
    "# Test case\n",
    "nums = [5, 7, 7, 8, 8, 10]\n",
    "target = 8\n",
    "output = find_target_range(nums, target)\n",
    "print(output)  # Output: [3, 4]\n"
   ]
  },
  {
   "cell_type": "code",
   "execution_count": null,
   "id": "db749591-a3b3-4c00-afb3-f38305711f8c",
   "metadata": {},
   "outputs": [],
   "source": []
  },
  {
   "cell_type": "markdown",
   "id": "4dac11fb-9c20-4f5e-aaee-0e956df25abb",
   "metadata": {},
   "source": [
    "Q3)A peak element is an element that is strictly greater than its neighbors.\n",
    "Given a 0-indexed integer array nums, find a peak element, and return its index. If the array contains multiple peaks, return the index to any of the peaks.\n",
    "You may imagine that nums[-1] = nums[n] = -∞. In other words, an element is always considered to be strictly greater than a neighbor that is outside the array.\n",
    "You must write an algorithm that runs in O(log n) time.\n",
    "Input: nums = [1,2,3,1]\n",
    "Output: 2\n",
    "Explanation: 3 is a peak element and your function should return the index number 2.\n"
   ]
  },
  {
   "cell_type": "code",
   "execution_count": 3,
   "id": "bd1a29aa-243d-41bc-9c13-5323c45eda8f",
   "metadata": {},
   "outputs": [
    {
     "name": "stdout",
     "output_type": "stream",
     "text": [
      "2\n"
     ]
    }
   ],
   "source": [
    "def find_peak_element(nums):\n",
    "    left, right = 0, len(nums) - 1\n",
    "\n",
    "    while left < right:\n",
    "        mid = (left + right) // 2\n",
    "\n",
    "        if nums[mid] > nums[mid + 1]:\n",
    "            right = mid\n",
    "        else:\n",
    "            left = mid + 1\n",
    "\n",
    "    return left\n",
    "\n",
    "# Test case\n",
    "nums = [1, 2, 3, 1]\n",
    "output = find_peak_element(nums)\n",
    "print(output)  # Output: 2\n"
   ]
  },
  {
   "cell_type": "code",
   "execution_count": null,
   "id": "bcc8d7fe-c287-4508-a308-b05262cfb61c",
   "metadata": {},
   "outputs": [],
   "source": []
  },
  {
   "cell_type": "markdown",
   "id": "e5e70f9c-6792-4d87-b1b2-038378ffeb6a",
   "metadata": {},
   "source": [
    "Q4)Given a sorted array of distinct integers and a target value, return the index if the target is found. If not, return the index where it would be if it were inserted in order.\n",
    "You must write an algorithm with O(log n) runtime complexity.\n",
    "Input: nums = [1,3,5,6], target = 5\n",
    "Output: 2\n",
    "\n",
    "Input: nums = [1,3,5,6], target = 7\n",
    "Output: 4\n"
   ]
  },
  {
   "cell_type": "code",
   "execution_count": 7,
   "id": "762b8dcb-1637-4c7f-8959-3ef95c5cd358",
   "metadata": {},
   "outputs": [
    {
     "name": "stdout",
     "output_type": "stream",
     "text": [
      "the output for target=5 is 2\n",
      "the output for target=7 is 4\n"
     ]
    }
   ],
   "source": [
    "def search_insert(nums, target):\n",
    "    left, right = 0, len(nums)\n",
    "\n",
    "    while left < right:\n",
    "        mid = (left + right) // 2\n",
    "\n",
    "        if nums[mid] < target:\n",
    "            left = mid + 1\n",
    "        else:\n",
    "            right = mid\n",
    "\n",
    "    return left\n",
    "\n",
    "# Test cases\n",
    "nums = [1, 3, 5, 6]\n",
    "target1 = 5\n",
    "target2 = 7\n",
    "\n",
    "output1 = search_insert(nums, target1)\n",
    "output2 = search_insert(nums, target2)\n",
    "\n",
    "print(\"the output for target=5 is\",output1)  # Output: 2\n",
    "print(\"the output for target=7 is\",output2)  # Output: 4\n"
   ]
  },
  {
   "cell_type": "code",
   "execution_count": null,
   "id": "9b3e85f0-4e99-4210-8b9e-8ca9539cf4df",
   "metadata": {},
   "outputs": [],
   "source": []
  },
  {
   "cell_type": "markdown",
   "id": "bde56f94-8cfb-4e21-8267-e1ba86015e4d",
   "metadata": {},
   "source": [
    "Q5)Find the majority element in the array. A majority element in an array A[] of size n is an element that appears more than n/2 times (and hence there is at most one such element). \n",
    "Input: A[]={3, 3, 4, 2, 4, 4, 2, 4, 4}\n",
    "Output: 4\n",
    "Explanation: The frequency of 4 is 5 which is greater than half of the size of the array size. "
   ]
  },
  {
   "cell_type": "code",
   "execution_count": 8,
   "id": "b343fc53-0208-49ca-abda-eb9581aeeadb",
   "metadata": {},
   "outputs": [
    {
     "name": "stdout",
     "output_type": "stream",
     "text": [
      "4\n"
     ]
    }
   ],
   "source": [
    "def majority_element(nums):\n",
    "    candidate = nums[0]\n",
    "    count = 1\n",
    "\n",
    "    for i in range(1, len(nums)):\n",
    "        if nums[i] == candidate:\n",
    "            count += 1\n",
    "        else:\n",
    "            count -= 1\n",
    "            if count == 0:\n",
    "                candidate = nums[i]\n",
    "                count = 1\n",
    "\n",
    "    # Count occurrences of the candidate element\n",
    "    candidate_count = nums.count(candidate)\n",
    "\n",
    "    if candidate_count > len(nums) // 2:\n",
    "        return candidate\n",
    "    else:\n",
    "        return None  # No majority element found\n",
    "\n",
    "# Test case\n",
    "nums = [3, 3, 4, 2, 4, 4, 2, 4, 4]\n",
    "output = majority_element(nums)\n",
    "print(output)  # Output: 4\n"
   ]
  },
  {
   "cell_type": "code",
   "execution_count": null,
   "id": "deb2fa8e-6473-43a2-b1bd-4bcddb8771bb",
   "metadata": {},
   "outputs": [],
   "source": []
  },
  {
   "cell_type": "markdown",
   "id": "ea94dfbc-fd1c-454e-9afa-6dada0139817",
   "metadata": {},
   "source": [
    "Q6)You are a product manager and currently leading a team to develop a new product. Unfortunately, the latest version of your product fails the quality check. Since each version is developed based on the previous version, all the versions after a bad version are also bad.\n",
    "Suppose you have n versions [1, 2, ..., n] and you want to find out the first bad one, which causes all the following ones to be bad.\n",
    "You are given an API bool isBadVersion(version) which returns whether the version is bad. Implement a function to find the first bad version. You should minimize the number of calls to the API.\n",
    "Input: n = 5, bad = 4\n",
    "Output: 4\n",
    "Explanation:\n",
    "call isBadVersion(3) -> false\n",
    "call isBadVersion(5) -> true\n",
    "call isBadVersion(4) -> true\n",
    "Then 4 is the first bad version.\n"
   ]
  },
  {
   "cell_type": "code",
   "execution_count": 9,
   "id": "0854acc8-18c3-433a-9ce4-a5e734e0864c",
   "metadata": {},
   "outputs": [
    {
     "name": "stdout",
     "output_type": "stream",
     "text": [
      "4\n"
     ]
    }
   ],
   "source": [
    "def first_bad_version(n):\n",
    "    left, right = 1, n\n",
    "\n",
    "    while left < right:\n",
    "        mid = (left + right) // 2\n",
    "\n",
    "        if isBadVersion(mid):\n",
    "            right = mid\n",
    "        else:\n",
    "            left = mid + 1\n",
    "\n",
    "    return left\n",
    "\n",
    "# Given API function\n",
    "# This is just a mock implementation to demonstrate the logic.\n",
    "# Replace it with the actual API function provided in your environment.\n",
    "def isBadVersion(version):\n",
    "    # Example implementation\n",
    "    return version >= 4\n",
    "\n",
    "# Test case\n",
    "n = 5\n",
    "output = first_bad_version(n)\n",
    "print(output)  # Output: 4\n"
   ]
  },
  {
   "cell_type": "code",
   "execution_count": null,
   "id": "fe031e5c-6a54-4628-9da6-98fee4508247",
   "metadata": {},
   "outputs": [],
   "source": []
  },
  {
   "cell_type": "markdown",
   "id": "137bdce5-6aa2-4744-8784-932b803db0b3",
   "metadata": {},
   "source": [
    "Q7)Given an array of integers, find the inversion of an array. Formally, two elements a[i] and a[j] form an inversion if a[i] > a[j] and i < j.\n",
    "N=5, arr[] = {2, 4, 1, 3, 5}\n",
    "Output: 3\n",
    "Explanation: (2,1) (4,1) and (4,3) forms an inversion in an array"
   ]
  },
  {
   "cell_type": "code",
   "execution_count": 10,
   "id": "9ef31d2e-89c1-4924-8429-32628219818e",
   "metadata": {},
   "outputs": [
    {
     "name": "stdout",
     "output_type": "stream",
     "text": [
      "3\n"
     ]
    }
   ],
   "source": [
    "def merge_sort_and_count(arr, left, right):\n",
    "    count = 0\n",
    "\n",
    "    if left < right:\n",
    "        mid = (left + right) // 2\n",
    "\n",
    "        count += merge_sort_and_count(arr, left, mid)\n",
    "        count += merge_sort_and_count(arr, mid + 1, right)\n",
    "\n",
    "        count += merge(arr, left, mid, right)\n",
    "\n",
    "    return count\n",
    "\n",
    "def merge(arr, left, mid, right):\n",
    "    count = 0\n",
    "    left_temp = arr[left:mid + 1]\n",
    "    right_temp = arr[mid + 1:right + 1]\n",
    "\n",
    "    left_idx, right_idx, index = 0, 0, left\n",
    "\n",
    "    while left_idx < len(left_temp) and right_idx < len(right_temp):\n",
    "        if left_temp[left_idx] <= right_temp[right_idx]:\n",
    "            arr[index] = left_temp[left_idx]\n",
    "            left_idx += 1\n",
    "        else:\n",
    "            arr[index] = right_temp[right_idx]\n",
    "            right_idx += 1\n",
    "            count += mid + 1 - (left + left_idx)  # Count inversions in the merging step\n",
    "        index += 1\n",
    "\n",
    "    while left_idx < len(left_temp):\n",
    "        arr[index] = left_temp[left_idx]\n",
    "        left_idx += 1\n",
    "        index += 1\n",
    "\n",
    "    while right_idx < len(right_temp):\n",
    "        arr[index] = right_temp[right_idx]\n",
    "        right_idx += 1\n",
    "        index += 1\n",
    "\n",
    "    return count\n",
    "\n",
    "def count_inversions(arr):\n",
    "    return merge_sort_and_count(arr, 0, len(arr) - 1)\n",
    "\n",
    "# Test case\n",
    "arr = [2, 4, 1, 3, 5]\n",
    "output = count_inversions(arr)\n",
    "print(output)  # Output: 3\n"
   ]
  },
  {
   "cell_type": "code",
   "execution_count": null,
   "id": "9e3999a2-f86f-474a-b5bb-8ec869e39bde",
   "metadata": {},
   "outputs": [],
   "source": []
  },
  {
   "cell_type": "markdown",
   "id": "c40ab858-71e2-410d-82d6-6409dd46a2f6",
   "metadata": {},
   "source": [
    "Q8)Given three arrays sorted in non-decreasing order, print all common elements in these arrays.\n",
    "ar1[] = {1, 5, 10, 20, 40, 80} \n",
    "ar2[] = {6, 7, 20, 80, 100} \n",
    "ar3[] = {3, 4, 15, 20, 30, 70, 80, 120} \n",
    "Output: 20, 80"
   ]
  },
  {
   "cell_type": "code",
   "execution_count": 11,
   "id": "baa7d197-7c34-4333-924e-0eb0f2fce8ae",
   "metadata": {},
   "outputs": [
    {
     "name": "stdout",
     "output_type": "stream",
     "text": [
      "[20, 80]\n"
     ]
    }
   ],
   "source": [
    "def find_common_elements(ar1, ar2, ar3):\n",
    "    i, j, k = 0, 0, 0\n",
    "    result = []\n",
    "\n",
    "    while i < len(ar1) and j < len(ar2) and k < len(ar3):\n",
    "        if ar1[i] == ar2[j] == ar3[k]:\n",
    "            result.append(ar1[i])\n",
    "            i += 1\n",
    "            j += 1\n",
    "            k += 1\n",
    "        elif ar1[i] <= min(ar2[j], ar3[k]):\n",
    "            i += 1\n",
    "        elif ar2[j] <= min(ar1[i], ar3[k]):\n",
    "            j += 1\n",
    "        else:\n",
    "            k += 1\n",
    "\n",
    "    return result\n",
    "\n",
    "# Test case\n",
    "ar1 = [1, 5, 10, 20, 40, 80]\n",
    "ar2 = [6, 7, 20, 80, 100]\n",
    "ar3 = [3, 4, 15, 20, 30, 70, 80, 120]\n",
    "output = find_common_elements(ar1, ar2, ar3)\n",
    "print(output)  # Output: [20, 80]\n"
   ]
  },
  {
   "cell_type": "code",
   "execution_count": null,
   "id": "5374ea36-f859-4eb1-ab63-8d29b96f4d8c",
   "metadata": {},
   "outputs": [],
   "source": []
  },
  {
   "cell_type": "code",
   "execution_count": null,
   "id": "343cbca3-cf21-4891-8ede-bf33051da0bb",
   "metadata": {},
   "outputs": [],
   "source": []
  },
  {
   "cell_type": "code",
   "execution_count": null,
   "id": "6eb176b6-93f9-4bf1-8e5e-b15580419248",
   "metadata": {},
   "outputs": [],
   "source": []
  },
  {
   "cell_type": "code",
   "execution_count": null,
   "id": "c0489a59-09ea-42f0-9d1b-3ef9fcc2dfb1",
   "metadata": {},
   "outputs": [],
   "source": []
  }
 ],
 "metadata": {
  "kernelspec": {
   "display_name": "Python 3 (ipykernel)",
   "language": "python",
   "name": "python3"
  },
  "language_info": {
   "codemirror_mode": {
    "name": "ipython",
    "version": 3
   },
   "file_extension": ".py",
   "mimetype": "text/x-python",
   "name": "python",
   "nbconvert_exporter": "python",
   "pygments_lexer": "ipython3",
   "version": "3.10.8"
  }
 },
 "nbformat": 4,
 "nbformat_minor": 5
}
