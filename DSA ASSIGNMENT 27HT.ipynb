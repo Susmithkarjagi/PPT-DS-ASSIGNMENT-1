{
 "cells": [
  {
   "cell_type": "markdown",
   "id": "41bdd02f-ad56-4027-9d95-aba1123e3358",
   "metadata": {},
   "source": [
    "## DSA ASSIGNMENT"
   ]
  },
  {
   "cell_type": "markdown",
   "id": "8dc6cbbb-3c45-4b66-bd3a-5fb3e0798be2",
   "metadata": {},
   "source": [
    "### ANSWER 1\n"
   ]
  },
  {
   "cell_type": "code",
   "execution_count": 2,
   "id": "4fc52491-4f39-4efb-85ea-8a396aee2f9c",
   "metadata": {},
   "outputs": [
    {
     "name": "stdout",
     "output_type": "stream",
     "text": [
      "leetcode\n",
      "\n",
      "s\n"
     ]
    }
   ],
   "source": [
    "def makeGood(s):\n",
    "    stack = []\n",
    "    \n",
    "    for char in s:\n",
    "        # Check if the stack is not empty and the current character creates a bad pair with the top character in the stack.\n",
    "        if stack and abs(ord(char) - ord(stack[-1])) == 32:\n",
    "            stack.pop()  # Remove the top character from the stack.\n",
    "        else:\n",
    "            stack.append(char)  # Push the current character onto the stack.\n",
    "    \n",
    "    return ''.join(stack)\n",
    "\n",
    "# Test cases\n",
    "print(makeGood(\"leEeetcode\")) \n",
    "print(makeGood(\"abBAcC\"))      \n",
    "print(makeGood(\"s\"))          \n"
   ]
  },
  {
   "cell_type": "code",
   "execution_count": null,
   "id": "fa604194-b6cd-47db-a145-b0631a84b86d",
   "metadata": {},
   "outputs": [],
   "source": []
  },
  {
   "cell_type": "markdown",
   "id": "2970f736-a74c-4172-89fa-d0c84f11ed6a",
   "metadata": {},
   "source": [
    "### ANSWER 2"
   ]
  },
  {
   "cell_type": "code",
   "execution_count": 3,
   "id": "f66cfd68-a136-4078-bdca-03c513d61114",
   "metadata": {},
   "outputs": [
    {
     "name": "stdout",
     "output_type": "stream",
     "text": [
      "ca\n",
      "ay\n"
     ]
    }
   ],
   "source": [
    "def removeDuplicates(s):\n",
    "    stack = []\n",
    "    \n",
    "    for char in s:\n",
    "     \n",
    "        if stack and stack[-1] == char:\n",
    "            stack.pop()  \n",
    "        else:\n",
    "            stack.append(char) \n",
    "    \n",
    "    return ''.join(stack)\n",
    "\n",
    "# Test cases\n",
    "print(removeDuplicates(\"abbaca\")) \n",
    "print(removeDuplicates(\"azxxzy\"))  \n"
   ]
  },
  {
   "cell_type": "code",
   "execution_count": null,
   "id": "61f6f2bf-50ee-4864-9db8-985c5081e237",
   "metadata": {},
   "outputs": [],
   "source": []
  },
  {
   "cell_type": "markdown",
   "id": "ad936c7f-f264-4285-8c7a-423b9e4dd87f",
   "metadata": {},
   "source": [
    "### ANSWER 3"
   ]
  },
  {
   "cell_type": "code",
   "execution_count": 4,
   "id": "1cb3461b-4342-4ee0-ae1b-28ec67b83788",
   "metadata": {},
   "outputs": [
    {
     "name": "stdout",
     "output_type": "stream",
     "text": [
      "1\n",
      "1\n",
      "1\n",
      "2\n",
      "1\n",
      "4\n",
      "6\n"
     ]
    }
   ],
   "source": [
    "class StockSpanner:\n",
    "    def __init__(self):\n",
    "        # Create two stacks to store prices and their corresponding spans.\n",
    "        self.prices = []\n",
    "        self.spans = []\n",
    "\n",
    "    def next(self, price: int) -> int:\n",
    "        # Initialize the current span to 1 (current day).\n",
    "        span = 1\n",
    "        while self.prices and self.prices[-1] <= price:\n",
    "            self.prices.pop()\n",
    "            span += self.spans.pop()\n",
    "        self.prices.append(price)\n",
    "        self.spans.append(span)\n",
    "        return span\n",
    "\n",
    "# Test case\n",
    "stock_spanner = StockSpanner()\n",
    "print(stock_spanner.next(100))  \n",
    "print(stock_spanner.next(80))   \n",
    "print(stock_spanner.next(60))   \n",
    "print(stock_spanner.next(70))  \n",
    "print(stock_spanner.next(60))  \n",
    "print(stock_spanner.next(75))   \n",
    "print(stock_spanner.next(85))  "
   ]
  },
  {
   "cell_type": "code",
   "execution_count": null,
   "id": "d8adf253-d832-48db-ba40-f231785534c8",
   "metadata": {},
   "outputs": [],
   "source": []
  },
  {
   "cell_type": "markdown",
   "id": "36230fbb-fba1-4da4-bf5e-c3d4b38633e8",
   "metadata": {},
   "source": [
    "### ASNWER 4"
   ]
  },
  {
   "cell_type": "code",
   "execution_count": 13,
   "id": "65a3cbac-0105-4bc3-8c24-6f87aae6fc13",
   "metadata": {},
   "outputs": [
    {
     "name": "stdout",
     "output_type": "stream",
     "text": [
      "7\n",
      "12\n"
     ]
    }
   ],
   "source": [
    "def time_to_buy_tickets(tickets, k):\n",
    "    n = len(tickets)\n",
    "    queue = [(i, t) for i, t in enumerate(tickets)]  # Create a list of tuples with person index and their remaining tickets.\n",
    "    time_taken = 0\n",
    "\n",
    "    while True:\n",
    "        idx, remaining_tickets = queue.pop(0)  # Get the first person from the queue.\n",
    "        tickets_bought = min(remaining_tickets, 1)  # Buy at most 1 ticket from this person.\n",
    "\n",
    "        # Update the remaining tickets for the person at index k.\n",
    "        if idx == k:\n",
    "            if remaining_tickets <= 1:\n",
    "                time_taken += remaining_tickets\n",
    "                break\n",
    "            else:\n",
    "                time_taken += 1\n",
    "\n",
    "        remaining_tickets -= tickets_bought\n",
    "\n",
    "        # If the person still has tickets remaining, add them back to the queue.\n",
    "        if remaining_tickets > 0:\n",
    "            queue.append((idx, remaining_tickets))\n",
    "\n",
    "        time_taken += tickets_bought\n",
    "\n",
    "    return time_taken\n",
    "\n",
    "# Test cases\n",
    "print(time_to_buy_tickets([2, 3, 2], 2))   \n",
    "print(time_to_buy_tickets([5, 1, 1, 1], 0))  \n"
   ]
  },
  {
   "cell_type": "code",
   "execution_count": null,
   "id": "c64a4fd1-04a3-4f37-bfcb-a1ca8abb2297",
   "metadata": {},
   "outputs": [],
   "source": []
  },
  {
   "cell_type": "markdown",
   "id": "6233d02c-ceeb-48d2-bec3-2de99ae08309",
   "metadata": {},
   "source": [
    "### ANSWER 5"
   ]
  },
  {
   "cell_type": "code",
   "execution_count": 16,
   "id": "cc414a6c-559f-4557-bf2b-dfae03eb27d0",
   "metadata": {},
   "outputs": [
    {
     "name": "stdout",
     "output_type": "stream",
     "text": [
      "20\n",
      "40\n",
      "0\n",
      "32\n"
     ]
    }
   ],
   "source": [
    "class ProductOfNumbers:\n",
    "    def __init__(self):\n",
    "        self.prefix_product = [1]  # Initialize the prefix product array with 1.\n",
    "\n",
    "    def add(self, num: int) -> None:\n",
    "        if num == 0:\n",
    "            self.prefix_product = [1]  # Reset the prefix product array if the new number is zero.\n",
    "        else:\n",
    "            self.prefix_product.append(self.prefix_product[-1] * num)  # Update the prefix product array.\n",
    "\n",
    "    def getProduct(self, k: int) -> int:\n",
    "        n = len(self.prefix_product)\n",
    "        if k >= n:\n",
    "            return 0\n",
    "        return self.prefix_product[-1] // self.prefix_product[-k - 1]  # Calculate the product of the last k elements.\n",
    "\n",
    "# Test cases\n",
    "product_of_numbers = ProductOfNumbers()\n",
    "product_of_numbers.add(3)\n",
    "product_of_numbers.add(0)\n",
    "product_of_numbers.add(2)\n",
    "product_of_numbers.add(5)\n",
    "product_of_numbers.add(4)\n",
    "print(product_of_numbers.getProduct(2))  # Output: 20\n",
    "print(product_of_numbers.getProduct(3))  # Output: 40\n",
    "print(product_of_numbers.getProduct(4))  # Output: 0\n",
    "product_of_numbers.add(8)\n",
    "print(product_of_numbers.getProduct(2))  # Output: 32\n"
   ]
  },
  {
   "cell_type": "code",
   "execution_count": null,
   "id": "62587dff-2de3-49c9-8739-24b87357408d",
   "metadata": {},
   "outputs": [],
   "source": []
  },
  {
   "cell_type": "markdown",
   "id": "94798a1c-94a3-4652-8e4a-51663c59f99c",
   "metadata": {},
   "source": [
    "### ANSWER 6"
   ]
  },
  {
   "cell_type": "code",
   "execution_count": 22,
   "id": "a92b5922-9d63-4d23-9612-092d8e0b142c",
   "metadata": {},
   "outputs": [
    {
     "name": "stdout",
     "output_type": "stream",
     "text": [
      "7\n",
      "12\n"
     ]
    }
   ],
   "source": [
    "def time_to_buy_tickets(tickets, k):\n",
    "    n = len(tickets)\n",
    "    queue = [(i, t) for i, t in enumerate(tickets)]  # Create a list of tuples with person index and their remaining tickets.\n",
    "    time_taken = 0\n",
    "\n",
    "    while True:\n",
    "        idx, remaining_tickets = queue.pop(0) \n",
    "        tickets_bought = min(remaining_tickets, 1)\n",
    "\n",
    "        if idx == k:\n",
    "            if remaining_tickets <= 1:\n",
    "                time_taken += remaining_tickets\n",
    "                break\n",
    "            else:\n",
    "                time_taken += 1\n",
    "\n",
    "        remaining_tickets -= tickets_bought\n",
    "\n",
    "        if remaining_tickets > 0:\n",
    "            queue.append((idx, remaining_tickets))\n",
    "\n",
    "        time_taken += tickets_bought\n",
    "\n",
    "    return time_taken\n",
    "\n",
    "# Test cases\n",
    "print(time_to_buy_tickets([2, 3, 2], 2))   \n",
    "print(time_to_buy_tickets([5, 1, 1, 1], 0)\n"
   ]
  },
  {
   "cell_type": "code",
   "execution_count": null,
   "id": "f0382b77-e5c4-4502-9bff-4b61dba2654e",
   "metadata": {},
   "outputs": [],
   "source": []
  },
  {
   "cell_type": "markdown",
   "id": "4650237a-c519-4cc6-b927-79a47c2e9ddd",
   "metadata": {},
   "source": [
    "### ANSWER 7"
   ]
  },
  {
   "cell_type": "code",
   "execution_count": 19,
   "id": "cc7403fa-f695-49f4-94f2-35b6f129bec9",
   "metadata": {},
   "outputs": [
    {
     "name": "stdout",
     "output_type": "stream",
     "text": [
      "[3, 3, 5, 5, 6, 7]\n",
      "[1]\n"
     ]
    }
   ],
   "source": [
    "from collections import deque\n",
    "\n",
    "def maxSlidingWindow(nums, k):\n",
    "    max_window = []\n",
    "    window = deque()\n",
    "\n",
    "    for i in range(len(nums)):\n",
    "        if window and window[0] == i - k:\n",
    "            window.popleft()\n",
    "\n",
    "        while window and nums[window[-1]] < nums[i]:\n",
    "            window.pop()\n",
    "\n",
    "        window.append(i)\n",
    "\n",
    "        if i >= k - 1:\n",
    "            max_window.append(nums[window[0]])\n",
    "\n",
    "    return max_window\n",
    "\n",
    "# Test case\n",
    "print(maxSlidingWindow([1, 3, -1, -3, 5, 3, 6, 7], 3))  \n",
    "print(maxSlidingWindow([1], 1))                     \n"
   ]
  },
  {
   "cell_type": "code",
   "execution_count": null,
   "id": "fc9d15d1-ea5a-4ca5-a7a1-8349720e9f03",
   "metadata": {},
   "outputs": [],
   "source": []
  },
  {
   "cell_type": "markdown",
   "id": "f48f34ad-f49f-4628-9bb2-0eff4ece25bc",
   "metadata": {},
   "source": [
    "### ANSWER 8"
   ]
  },
  {
   "cell_type": "code",
   "execution_count": 20,
   "id": "d88979cb-fb97-4018-b214-70444187694a",
   "metadata": {},
   "outputs": [
    {
     "name": "stdout",
     "output_type": "stream",
     "text": [
      "True\n",
      "True\n",
      "True\n",
      "False\n",
      "3\n",
      "True\n",
      "True\n",
      "True\n",
      "4\n"
     ]
    }
   ],
   "source": [
    "class CircularQueue:\n",
    "    def __init__(self, k: int):\n",
    "        self.queue = [None] * k\n",
    "        self.front = -1\n",
    "        self.rear = -1\n",
    "        self.size = 0\n",
    "        self.capacity = k\n",
    "\n",
    "    def enQueue(self, value: int) -> bool:\n",
    "        if self.isFull():\n",
    "            return False\n",
    "\n",
    "        if self.isEmpty():\n",
    "            self.front = 0\n",
    "\n",
    "        self.rear = (self.rear + 1) % self.capacity\n",
    "        self.queue[self.rear] = value\n",
    "        self.size += 1\n",
    "        return True\n",
    "\n",
    "    def deQueue(self) -> bool:\n",
    "        if self.isEmpty():\n",
    "            return False\n",
    "\n",
    "        if self.front == self.rear:\n",
    "            self.front = -1\n",
    "            self.rear = -1\n",
    "        else:\n",
    "            self.front = (self.front + 1) % self.capacity\n",
    "        self.size -= 1\n",
    "        return True\n",
    "\n",
    "    def Front(self) -> int:\n",
    "        if self.isEmpty():\n",
    "            return -1\n",
    "        return self.queue[self.front]\n",
    "\n",
    "    def Rear(self) -> int:\n",
    "        if self.isEmpty():\n",
    "            return -1\n",
    "        return self.queue[self.rear]\n",
    "\n",
    "    def isEmpty(self) -> bool:\n",
    "        return self.size == 0\n",
    "\n",
    "    def isFull(self) -> bool:\n",
    "        return self.size == self.capacity\n",
    "\n",
    "# Test cases\n",
    "circular_queue = CircularQueue(3)\n",
    "print(circular_queue.enQueue(2))   \n",
    "print(circular_queue.enQueue(3))   \n",
    "print(circular_queue.enQueue(4))  \n",
    "print(circular_queue.Rear())       \n",
    "print(circular_queue.isFull())   \n",
    "print(circular_queue.deQueue())   \n",
    "print(circular_queue.enQueue(4))  \n",
    "print(circular_queue.Rear())       \n"
   ]
  },
  {
   "cell_type": "code",
   "execution_count": null,
   "id": "5684e94f-31d7-4389-b2bc-e2658e59fe01",
   "metadata": {},
   "outputs": [],
   "source": []
  },
  {
   "cell_type": "code",
   "execution_count": null,
   "id": "295ef961-c50d-44ff-bf0f-72218acfee3f",
   "metadata": {},
   "outputs": [],
   "source": []
  },
  {
   "cell_type": "code",
   "execution_count": null,
   "id": "00000b54-a525-4c38-a974-53b6507d29c0",
   "metadata": {},
   "outputs": [],
   "source": []
  }
 ],
 "metadata": {
  "kernelspec": {
   "display_name": "Python 3 (ipykernel)",
   "language": "python",
   "name": "python3"
  },
  "language_info": {
   "codemirror_mode": {
    "name": "ipython",
    "version": 3
   },
   "file_extension": ".py",
   "mimetype": "text/x-python",
   "name": "python",
   "nbconvert_exporter": "python",
   "pygments_lexer": "ipython3",
   "version": "3.10.8"
  }
 },
 "nbformat": 4,
 "nbformat_minor": 5
}
