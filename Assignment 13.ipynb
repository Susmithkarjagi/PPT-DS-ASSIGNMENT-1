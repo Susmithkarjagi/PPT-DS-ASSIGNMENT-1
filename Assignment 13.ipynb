{
 "cells": [
  {
   "cell_type": "markdown",
   "id": "f5fadc1f-dec6-4b20-8062-d64a205451b1",
   "metadata": {},
   "source": [
    "## Assignment 13"
   ]
  },
  {
   "cell_type": "code",
   "execution_count": 1,
   "id": "f766638d-8a36-477c-87c7-59b74eed0436",
   "metadata": {},
   "outputs": [
    {
     "name": "stdout",
     "output_type": "stream",
     "text": [
      "[1, 2, 3, 4]\n",
      "[1, 2, 3, 4]\n"
     ]
    }
   ],
   "source": [
    "## Q1\n",
    "from bisect import bisect_left\n",
    "\n",
    "def findClosestElements(arr, k, x):\n",
    "    left = right = bisect_left(arr, x)\n",
    "    \n",
    "    # expand outwards from the closest number\n",
    "    while right - left < k:\n",
    "        if left == 0: \n",
    "            return arr[:k]\n",
    "        if right == len(arr): \n",
    "            return arr[-k:]\n",
    "        if x - arr[left - 1] <= arr[right] - x: \n",
    "            left -= 1\n",
    "        else: \n",
    "            right += 1\n",
    "            \n",
    "    return arr[left:right]\n",
    "\n",
    "arr = [1,2,3,4,5]\n",
    "k = 4\n",
    "x = 3\n",
    "print(findClosestElements(arr, k, x))  # Outputs: [1,2,3,4]\n",
    "\n",
    "arr = [1,2,3,4,5]\n",
    "k = 4\n",
    "x = -1\n",
    "print(findClosestElements(arr, k, x))  # Outputs: [1,2,3,4]\n"
   ]
  },
  {
   "cell_type": "code",
   "execution_count": null,
   "id": "5d375287-c20e-4842-b9aa-cb619827fd83",
   "metadata": {},
   "outputs": [],
   "source": []
  },
  {
   "cell_type": "code",
   "execution_count": 3,
   "id": "461f96a1-fae9-40cf-97d1-1ab0a6690bd3",
   "metadata": {},
   "outputs": [
    {
     "name": "stdout",
     "output_type": "stream",
     "text": [
      "13\n",
      "-5\n"
     ]
    }
   ],
   "source": [
    "## Q2\n",
    "def kthSmallest(matrix, k):\n",
    "    n = len(matrix)\n",
    "    left, right = matrix[0][0], matrix[n-1][n-1]\n",
    "\n",
    "    while left < right:\n",
    "        mid = (left + right) // 2\n",
    "        count = 0\n",
    "        j = n - 1\n",
    "\n",
    "        for i in range(n):\n",
    "            while j >= 0 and matrix[i][j] > mid:\n",
    "                j -= 1\n",
    "            count += (j + 1)\n",
    "\n",
    "        if count < k:\n",
    "            left = mid + 1\n",
    "        else:\n",
    "            right = mid\n",
    "\n",
    "    return left\n",
    "matrix = [[1,5,9],[10,11,13],[12,13,15]]\n",
    "k = 8\n",
    "print(kthSmallest(matrix, k))  # Output: 13\n",
    "\n",
    "matrix = [[-5]]\n",
    "k = 1\n",
    "print(kthSmallest(matrix, k))  # Output: -5\n",
    "\n"
   ]
  },
  {
   "cell_type": "code",
   "execution_count": null,
   "id": "90ed6bf0-4022-4da2-93eb-875669825667",
   "metadata": {},
   "outputs": [],
   "source": []
  },
  {
   "cell_type": "code",
   "execution_count": 4,
   "id": "cd749668-e45a-4393-8a48-a3385be085a6",
   "metadata": {},
   "outputs": [
    {
     "name": "stdout",
     "output_type": "stream",
     "text": [
      "['i', 'love']\n",
      "['the', 'is', 'sunny', 'day']\n"
     ]
    }
   ],
   "source": [
    "## Q3\n",
    "import heapq\n",
    "from collections import Counter\n",
    "\n",
    "def topKFrequent(words, k):\n",
    "    count = Counter(words)\n",
    "    heap = [(-freq, word) for word, freq in count.items()]\n",
    "    heapq.heapify(heap)\n",
    "    return [heapq.heappop(heap)[1] for _ in range(k)]\n",
    "\n",
    "words = [\"i\",\"love\",\"leetcode\",\"i\",\"love\",\"coding\"]\n",
    "k = 2\n",
    "print(topKFrequent(words, k))  # Output: ['i', 'love']\n",
    "\n",
    "words = [\"the\",\"day\",\"is\",\"sunny\",\"the\",\"the\",\"the\",\"sunny\",\"is\",\"is\"]\n",
    "k = 4\n",
    "print(topKFrequent(words, k))  # Output: ['the', 'is', 'sunny', 'day']\n"
   ]
  },
  {
   "cell_type": "code",
   "execution_count": null,
   "id": "02b14143-dd9d-44d8-aab3-83776429ec1b",
   "metadata": {},
   "outputs": [],
   "source": []
  },
  {
   "cell_type": "code",
   "execution_count": 5,
   "id": "939f29d9-7d74-4bb4-af87-597ec4a85820",
   "metadata": {},
   "outputs": [
    {
     "name": "stdout",
     "output_type": "stream",
     "text": [
      "3\n"
     ]
    }
   ],
   "source": [
    "## Q4\n",
    "class TreeNode:\n",
    "    def __init__(self, x):\n",
    "        self.val = x\n",
    "        self.left = None\n",
    "        self.right = None\n",
    "\n",
    "def diameterOfBinaryTree(root):\n",
    "    diameter = 0\n",
    "\n",
    "    def dfs(node):\n",
    "        nonlocal diameter\n",
    "        if not node:\n",
    "            return 0\n",
    "        left_height = dfs(node.left)\n",
    "        right_height = dfs(node.right)\n",
    "        diameter = max(diameter, left_height + right_height)\n",
    "        return max(left_height, right_height) + 1\n",
    "\n",
    "    dfs(root)\n",
    "    return diameter\n",
    "root = TreeNode(1)\n",
    "root.left = TreeNode(2)\n",
    "root.right = TreeNode(3)\n",
    "root.left.left = TreeNode(4)\n",
    "root.left.right = TreeNode(5)\n",
    "print(diameterOfBinaryTree(root))  # Output: 3\n"
   ]
  },
  {
   "cell_type": "code",
   "execution_count": null,
   "id": "9f8c74b9-dcf3-4877-bd08-47ef7f277b20",
   "metadata": {},
   "outputs": [],
   "source": []
  },
  {
   "cell_type": "code",
   "execution_count": 6,
   "id": "a51ed601-b17f-4e98-8c2c-4001a9f11cd4",
   "metadata": {},
   "outputs": [
    {
     "name": "stdout",
     "output_type": "stream",
     "text": [
      "True\n",
      "False\n"
     ]
    }
   ],
   "source": [
    "## Q5\n",
    "# Definition for a binary tree node.\n",
    "class TreeNode:\n",
    "    def __init__(self, x):\n",
    "        self.val = x\n",
    "        self.left = None\n",
    "        self.right = None\n",
    "\n",
    "class Solution:\n",
    "    def isSymmetric(self, root):\n",
    "        if root is None:\n",
    "            return True\n",
    "        else:\n",
    "            return self.isMirror(root.left, root.right)\n",
    "\n",
    "    def isMirror(self, left, right):\n",
    "        if left is None and right is None:\n",
    "            return True\n",
    "        if left is None or right is None:\n",
    "            return False\n",
    "\n",
    "        if left.val == right.val:\n",
    "            outPair = self.isMirror(left.left, right.right)\n",
    "            inPair = self.isMirror(left.right, right.left)\n",
    "            return outPair and inPair\n",
    "        else:\n",
    "            return False\n",
    "\n",
    "root = TreeNode(1)\n",
    "root.left = TreeNode(2)\n",
    "root.right = TreeNode(2)\n",
    "root.left.left = TreeNode(3)\n",
    "root.left.right = TreeNode(4)\n",
    "root.right.left = TreeNode(4)\n",
    "root.right.right = TreeNode(3)\n",
    "print(Solution().isSymmetric(root))  # Output: True\n",
    "\n",
    "root = TreeNode(1)\n",
    "root.left = TreeNode(2)\n",
    "root.right = TreeNode(2)\n",
    "root.left.right = TreeNode(3)\n",
    "root.right.right = TreeNode(3)\n",
    "print(Solution().isSymmetric(root))  # Output: False\n",
    "        "
   ]
  },
  {
   "cell_type": "code",
   "execution_count": null,
   "id": "4fb7b651-e09f-4caf-95a8-5092cbcfe3fe",
   "metadata": {},
   "outputs": [],
   "source": []
  },
  {
   "cell_type": "code",
   "execution_count": 7,
   "id": "98c9f48c-c60b-4b40-bcaa-1510ead2a23b",
   "metadata": {},
   "outputs": [
    {
     "name": "stdout",
     "output_type": "stream",
     "text": [
      "3\n",
      "2\n",
      "0\n"
     ]
    }
   ],
   "source": [
    "## Q6\n",
    "def kthLargestNumber(nums, k):\n",
    "    nums.sort(key=int)\n",
    "    return nums[-k]\n",
    "nums = [\"3\",\"6\",\"7\",\"10\"]\n",
    "k = 4\n",
    "print(kthLargestNumber(nums, k))  # Output: \"3\"\n",
    "\n",
    "nums = [\"2\",\"21\",\"12\",\"1\"]\n",
    "k = 3\n",
    "print(kthLargestNumber(nums, k))  # Output: \"2\"\n",
    "\n",
    "nums = [\"0\",\"0\"]\n",
    "k = 2\n",
    "print(kthLargestNumber(nums, k))  # Output: \"0\"\n"
   ]
  },
  {
   "cell_type": "code",
   "execution_count": null,
   "id": "a61cc579-1931-493e-8b1c-9ff1bafb078a",
   "metadata": {},
   "outputs": [],
   "source": []
  },
  {
   "cell_type": "code",
   "execution_count": 17,
   "id": "e0b8a792-eeb5-4014-b70a-763524e559b5",
   "metadata": {},
   "outputs": [
    {
     "name": "stdout",
     "output_type": "stream",
     "text": [
      "[4, 7, 2, 9, 6, 3, 1]\n",
      "[2, 3, 1]\n",
      "[]\n"
     ]
    }
   ],
   "source": [
    "## Q7\n",
    "class TreeNode:\n",
    "    def __init__(self, val=0, left=None, right=None):\n",
    "        self.val = val\n",
    "        self.left = left\n",
    "        self.right = right\n",
    "\n",
    "def invertTree(root):\n",
    "    if not root:\n",
    "        return None\n",
    "\n",
    "    # Swap the left and right subtrees\n",
    "    root.left, root.right = root.right, root.left\n",
    "\n",
    "    # Recursively invert the left and right subtrees\n",
    "    invertTree(root.left)\n",
    "    invertTree(root.right)\n",
    "\n",
    "    return root\n",
    "\n",
    "# Function to construct a binary tree from a list representation\n",
    "def construct_tree_from_list(lst):\n",
    "    if not lst:\n",
    "        return None\n",
    "    nodes = [TreeNode(val) if val is not None else None for val in lst]\n",
    "    n = len(nodes)\n",
    "    for i in range(n):\n",
    "        if nodes[i] is None:\n",
    "            continue\n",
    "        left_idx = 2 * i + 1\n",
    "        right_idx = 2 * i + 2\n",
    "        if left_idx < n:\n",
    "            nodes[i].left = nodes[left_idx]\n",
    "        if right_idx < n:\n",
    "            nodes[i].right = nodes[right_idx]\n",
    "    return nodes[0]\n",
    "\n",
    "# Function to convert a binary tree to a list representation\n",
    "def convert_tree_to_list(root):\n",
    "    if not root:\n",
    "        return []\n",
    "    queue = [root]\n",
    "    lst = []\n",
    "    while queue:\n",
    "        node = queue.pop(0)\n",
    "        if node:\n",
    "            lst.append(node.val)\n",
    "            queue.append(node.left)\n",
    "            queue.append(node.right)\n",
    "        else:\n",
    "            lst.append(None)\n",
    "    while lst and lst[-1] is None:\n",
    "        lst.pop()\n",
    "    return lst\n",
    "\n",
    "# Test cases\n",
    "root1 = construct_tree_from_list([4, 2, 7, 1, 3, 6, 9])\n",
    "inverted_root1 = invertTree(root1)\n",
    "print(convert_tree_to_list(inverted_root1))  # Output: [4, 7, 2, 9, 6, 3, 1]\n",
    "\n",
    "root2 = construct_tree_from_list([2, 1, 3])\n",
    "inverted_root2 = invertTree(root2)\n",
    "print(convert_tree_to_list(inverted_root2))  # Output: [2, 3, 1]\n",
    "\n",
    "root3 = construct_tree_from_list([])\n",
    "inverted_root3 = invertTree(root3)\n",
    "print(convert_tree_to_list(inverted_root3))  # Output: []"
   ]
  },
  {
   "cell_type": "code",
   "execution_count": null,
   "id": "ef5d58d2-1d2e-4880-be83-10ec1565d438",
   "metadata": {},
   "outputs": [],
   "source": []
  },
  {
   "cell_type": "code",
   "execution_count": 14,
   "id": "b8627222-fa36-4c87-8575-09c7c6317bb3",
   "metadata": {},
   "outputs": [
    {
     "name": "stdout",
     "output_type": "stream",
     "text": [
      "[['', '1', ''], ['2', '', ''], ['', '', '']]\n"
     ]
    }
   ],
   "source": [
    "## Q8\n",
    "# Definition for a binary tree node.\n",
    "class TreeNode:\n",
    "    def __init__(self, x):\n",
    "        self.val = x\n",
    "        self.left = None\n",
    "        self.right = None\n",
    "\n",
    "class Solution:\n",
    "    def printTree(self, root):\n",
    "        # Get the height of the tree\n",
    "        height = self.getHeight(root)\n",
    "\n",
    "        # Calculate the number of rows and columns in the matrix\n",
    "        m = height + 1\n",
    "        n = 2 ** height - 1\n",
    "\n",
    "        # Initialize the matrix with empty strings\n",
    "        res = [[\"\" for _ in range(n)] for _ in range(m)]\n",
    "\n",
    "        # Helper function to fill the matrix with tree nodes\n",
    "        def fillMatrix(node, r, c, w):\n",
    "            if not node:\n",
    "                return\n",
    "            res[r][c] = str(node.val)\n",
    "            offset = 2 ** (w - r - 2)\n",
    "            fillMatrix(node.left, r + 1, c - offset, w)\n",
    "            fillMatrix(node.right, r + 1, c + offset, w)\n",
    "\n",
    "        # Fill the matrix starting from the root node\n",
    "        fillMatrix(root, 0, n // 2, height)\n",
    "\n",
    "        return res\n",
    "\n",
    "    def getHeight(self, node):\n",
    "        if not node:\n",
    "            return 0\n",
    "        return max(self.getHeight(node.left), self.getHeight(node.right)) + 1\n",
    "root = TreeNode(1)\n",
    "root.left = TreeNode(2)\n",
    "print(Solution().printTree(root))\n",
    "# Output: [[\"\",\"1\",\"\"], [\"2\",\"\",\"\"]]\n",
    "\n"
   ]
  },
  {
   "cell_type": "code",
   "execution_count": 15,
   "id": "07a9faf1-2ba8-4139-a335-7e1d29fc8e52",
   "metadata": {},
   "outputs": [
    {
     "name": "stdout",
     "output_type": "stream",
     "text": [
      "[['', '', '', '1', '', '', ''], ['', '2', '', '', '', '3', ''], ['', '', '', '', '4', '', ''], ['', '', '', '', '', '', '']]\n"
     ]
    }
   ],
   "source": [
    "\n",
    "root = TreeNode(1)\n",
    "root.left = TreeNode(2)\n",
    "root.right = TreeNode(3)\n",
    "root.right.left = TreeNode(4)\n",
    "print(Solution().printTree(root))\n",
    "# Output: [[\"\",\"\",\"\",\"1\",\"\",\"\",\"\"],\n",
    "#          [\"\",\"2\",\"\",\"\",\"\",\"3\",\"\"],\n",
    "#          [\"\",\"\",\"4\",\"\",\"\",\"\",\"\"]]\n"
   ]
  },
  {
   "cell_type": "code",
   "execution_count": null,
   "id": "7ebae993-aefd-4026-af51-cf8ade4c74fc",
   "metadata": {},
   "outputs": [],
   "source": []
  },
  {
   "cell_type": "code",
   "execution_count": null,
   "id": "b4233c7b-967c-400e-ae5c-97d97a7e5bfa",
   "metadata": {},
   "outputs": [],
   "source": []
  },
  {
   "cell_type": "code",
   "execution_count": null,
   "id": "91b1be99-52dd-49e0-9b18-67688f5d03a4",
   "metadata": {},
   "outputs": [],
   "source": []
  }
 ],
 "metadata": {
  "kernelspec": {
   "display_name": "Python 3 (ipykernel)",
   "language": "python",
   "name": "python3"
  },
  "language_info": {
   "codemirror_mode": {
    "name": "ipython",
    "version": 3
   },
   "file_extension": ".py",
   "mimetype": "text/x-python",
   "name": "python",
   "nbconvert_exporter": "python",
   "pygments_lexer": "ipython3",
   "version": "3.10.8"
  }
 },
 "nbformat": 4,
 "nbformat_minor": 5
}
